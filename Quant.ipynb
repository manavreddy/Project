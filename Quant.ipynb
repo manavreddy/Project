{
 "cells": [
  {
   "cell_type": "code",
   "execution_count": 98,
   "id": "8b743429",
   "metadata": {},
   "outputs": [
    {
     "data": {
      "text/html": [
       "<div>\n",
       "<style scoped>\n",
       "    .dataframe tbody tr th:only-of-type {\n",
       "        vertical-align: middle;\n",
       "    }\n",
       "\n",
       "    .dataframe tbody tr th {\n",
       "        vertical-align: top;\n",
       "    }\n",
       "\n",
       "    .dataframe thead th {\n",
       "        text-align: right;\n",
       "    }\n",
       "</style>\n",
       "<table border=\"1\" class=\"dataframe\">\n",
       "  <thead>\n",
       "    <tr style=\"text-align: right;\">\n",
       "      <th></th>\n",
       "      <th>banknifty</th>\n",
       "      <th>nifty</th>\n",
       "      <th>tte</th>\n",
       "    </tr>\n",
       "    <tr>\n",
       "      <th>time</th>\n",
       "      <th></th>\n",
       "      <th></th>\n",
       "      <th></th>\n",
       "    </tr>\n",
       "  </thead>\n",
       "  <tbody>\n",
       "    <tr>\n",
       "      <th>2021-01-01 09:15:00</th>\n",
       "      <td>0.286058</td>\n",
       "      <td>0.199729</td>\n",
       "      <td>27</td>\n",
       "    </tr>\n",
       "    <tr>\n",
       "      <th>2021-01-01 09:16:00</th>\n",
       "      <td>0.285381</td>\n",
       "      <td>0.200433</td>\n",
       "      <td>27</td>\n",
       "    </tr>\n",
       "    <tr>\n",
       "      <th>2021-01-01 09:17:00</th>\n",
       "      <td>0.284233</td>\n",
       "      <td>0.200004</td>\n",
       "      <td>27</td>\n",
       "    </tr>\n",
       "    <tr>\n",
       "      <th>2021-01-01 09:18:00</th>\n",
       "      <td>0.286104</td>\n",
       "      <td>0.199860</td>\n",
       "      <td>27</td>\n",
       "    </tr>\n",
       "    <tr>\n",
       "      <th>2021-01-01 09:19:00</th>\n",
       "      <td>0.285539</td>\n",
       "      <td>0.198951</td>\n",
       "      <td>27</td>\n",
       "    </tr>\n",
       "    <tr>\n",
       "      <th>...</th>\n",
       "      <td>...</td>\n",
       "      <td>...</td>\n",
       "      <td>...</td>\n",
       "    </tr>\n",
       "    <tr>\n",
       "      <th>2022-06-30 15:26:00</th>\n",
       "      <td>0.240701</td>\n",
       "      <td>0.214758</td>\n",
       "      <td>28</td>\n",
       "    </tr>\n",
       "    <tr>\n",
       "      <th>2022-06-30 15:27:00</th>\n",
       "      <td>0.240875</td>\n",
       "      <td>0.216558</td>\n",
       "      <td>28</td>\n",
       "    </tr>\n",
       "    <tr>\n",
       "      <th>2022-06-30 15:28:00</th>\n",
       "      <td>0.242115</td>\n",
       "      <td>0.216794</td>\n",
       "      <td>28</td>\n",
       "    </tr>\n",
       "    <tr>\n",
       "      <th>2022-06-30 15:29:00</th>\n",
       "      <td>0.243426</td>\n",
       "      <td>0.216455</td>\n",
       "      <td>28</td>\n",
       "    </tr>\n",
       "    <tr>\n",
       "      <th>2022-06-30 15:30:00</th>\n",
       "      <td>0.241907</td>\n",
       "      <td>0.216081</td>\n",
       "      <td>28</td>\n",
       "    </tr>\n",
       "  </tbody>\n",
       "</table>\n",
       "<p>690512 rows × 3 columns</p>\n",
       "</div>"
      ],
      "text/plain": [
       "                     banknifty     nifty  tte\n",
       "time                                         \n",
       "2021-01-01 09:15:00   0.286058  0.199729   27\n",
       "2021-01-01 09:16:00   0.285381  0.200433   27\n",
       "2021-01-01 09:17:00   0.284233  0.200004   27\n",
       "2021-01-01 09:18:00   0.286104  0.199860   27\n",
       "2021-01-01 09:19:00   0.285539  0.198951   27\n",
       "...                        ...       ...  ...\n",
       "2022-06-30 15:26:00   0.240701  0.214758   28\n",
       "2022-06-30 15:27:00   0.240875  0.216558   28\n",
       "2022-06-30 15:28:00   0.242115  0.216794   28\n",
       "2022-06-30 15:29:00   0.243426  0.216455   28\n",
       "2022-06-30 15:30:00   0.241907  0.216081   28\n",
       "\n",
       "[690512 rows x 3 columns]"
      ]
     },
     "execution_count": 98,
     "metadata": {},
     "output_type": "execute_result"
    }
   ],
   "source": [
    "import numpy as np\n",
    "import pandas as pd\n",
    "parquet_file_path = r\"C:\\Users\\manav\\OneDrive\\Desktop\\TB\\data.parquet\"\n",
    "uninterpolated_df = pd.read_parquet(parquet_file_path)\n",
    "df = uninterpolated_df.interpolate(method='linear')\n",
    "df"
   ]
  },
  {
   "cell_type": "code",
   "execution_count": 103,
   "id": "dfa04fe5",
   "metadata": {},
   "outputs": [],
   "source": [
    "spread = df[\"banknifty\"] - df[\"nifty\"]\n",
    "PL = spread*df[\"tte\"]**(0.7)"
   ]
  },
  {
   "cell_type": "code",
   "execution_count": 107,
   "id": "0fbecdbe",
   "metadata": {},
   "outputs": [],
   "source": [
    "meanSpread = spread.rolling(window=40, min_periods=1).mean()\n",
    "stdSpread = spread.rolling(window=40, min_periods=1).std()\n",
    "stdSpread[0] = 0"
   ]
  },
  {
   "cell_type": "code",
   "execution_count": 109,
   "id": "e687b057",
   "metadata": {},
   "outputs": [],
   "source": [
    "zscore = (spread - meanSpread)/stdSpread\n",
    "zscore[0] = 0"
   ]
  },
  {
   "cell_type": "code",
   "execution_count": null,
   "id": "a73449d5",
   "metadata": {},
   "outputs": [],
   "source": []
  }
 ],
 "metadata": {
  "kernelspec": {
   "display_name": "Python 3 (ipykernel)",
   "language": "python",
   "name": "python3"
  },
  "language_info": {
   "codemirror_mode": {
    "name": "ipython",
    "version": 3
   },
   "file_extension": ".py",
   "mimetype": "text/x-python",
   "name": "python",
   "nbconvert_exporter": "python",
   "pygments_lexer": "ipython3",
   "version": "3.11.3"
  }
 },
 "nbformat": 4,
 "nbformat_minor": 5
}
